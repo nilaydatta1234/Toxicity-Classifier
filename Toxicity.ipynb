{
  "cells": [
    {
      "cell_type": "markdown",
      "metadata": {},
      "source": [
        "### Importing Libs"
      ]
    },
    {
      "cell_type": "code",
      "execution_count": 1,
      "metadata": {},
      "outputs": [
        {
          "name": "stderr",
          "output_type": "stream",
          "text": [
            "2023-08-31 00:16:36.549420: I tensorflow/core/platform/cpu_feature_guard.cc:182] This TensorFlow binary is optimized to use available CPU instructions in performance-critical operations.\n",
            "To enable the following instructions: AVX2 FMA, in other operations, rebuild TensorFlow with the appropriate compiler flags.\n",
            "2023-08-31 00:16:41.375472: W tensorflow/compiler/tf2tensorrt/utils/py_utils.cc:38] TF-TRT Warning: Could not find TensorRT\n",
            "/home/krrish/.conda/envs/tf/lib/python3.9/site-packages/tqdm/auto.py:21: TqdmWarning: IProgress not found. Please update jupyter and ipywidgets. See https://ipywidgets.readthedocs.io/en/stable/user_install.html\n",
            "  from .autonotebook import tqdm as notebook_tqdm\n"
          ]
        }
      ],
      "source": [
        "import pandas as pd\n",
        "import numpy as np\n",
        "\n",
        "import matplotlib.pyplot as plt\n",
        "import seaborn as sns\n",
        "\n",
        "from sklearn import metrics\n",
        "from sklearn.model_selection import train_test_split\n",
        "from sklearn.metrics import accuracy_score, precision_score, recall_score\n",
        "\n",
        "import tensorflow as tf\n",
        "from tensorflow.keras.models import Sequential\n",
        "from tensorflow.keras.layers import LSTM, Bidirectional, Dense, Embedding, TextVectorization\n",
        "\n",
        "import torch\n",
        "from torch.utils.data import DataLoader, TensorDataset\n",
        "\n",
        "from transformers import BertTokenizer, BertForSequenceClassification, AdamW\n",
        "\n",
        "import warnings\n",
        "warnings.filterwarnings('ignore')"
      ]
    },
    {
      "cell_type": "markdown",
      "metadata": {},
      "source": [
        "### Verifying GPU Usage"
      ]
    },
    {
      "cell_type": "code",
      "execution_count": 3,
      "metadata": {},
      "outputs": [
        {
          "name": "stdout",
          "output_type": "stream",
          "text": [
            "[PhysicalDevice(name='/physical_device:GPU:0', device_type='GPU')]\n"
          ]
        },
        {
          "name": "stderr",
          "output_type": "stream",
          "text": [
            "2023-08-30 20:45:37.338808: I tensorflow/compiler/xla/stream_executor/cuda/cuda_gpu_executor.cc:995] successful NUMA node read from SysFS had negative value (-1), but there must be at least one NUMA node, so returning NUMA node zero. See more at https://github.com/torvalds/linux/blob/v6.0/Documentation/ABI/testing/sysfs-bus-pci#L344-L355\n",
            "2023-08-30 20:45:37.441159: I tensorflow/compiler/xla/stream_executor/cuda/cuda_gpu_executor.cc:995] successful NUMA node read from SysFS had negative value (-1), but there must be at least one NUMA node, so returning NUMA node zero. See more at https://github.com/torvalds/linux/blob/v6.0/Documentation/ABI/testing/sysfs-bus-pci#L344-L355\n",
            "2023-08-30 20:45:37.441583: I tensorflow/compiler/xla/stream_executor/cuda/cuda_gpu_executor.cc:995] successful NUMA node read from SysFS had negative value (-1), but there must be at least one NUMA node, so returning NUMA node zero. See more at https://github.com/torvalds/linux/blob/v6.0/Documentation/ABI/testing/sysfs-bus-pci#L344-L355\n"
          ]
        }
      ],
      "source": [
        "physical_devices = tf.config.list_physical_devices('GPU')\n",
        "print(physical_devices)\n",
        "tf.config.experimental.set_memory_growth(physical_devices[0], enable=True)"
      ]
    },
    {
      "cell_type": "markdown",
      "metadata": {},
      "source": [
        "### Reading Dataset"
      ]
    },
    {
      "cell_type": "code",
      "execution_count": 6,
      "metadata": {
        "id": "gfCeT6h5CL-E"
      },
      "outputs": [
        {
          "data": {
            "text/html": [
              "<div>\n",
              "<style scoped>\n",
              "    .dataframe tbody tr th:only-of-type {\n",
              "        vertical-align: middle;\n",
              "    }\n",
              "\n",
              "    .dataframe tbody tr th {\n",
              "        vertical-align: top;\n",
              "    }\n",
              "\n",
              "    .dataframe thead th {\n",
              "        text-align: right;\n",
              "    }\n",
              "</style>\n",
              "<table border=\"1\" class=\"dataframe\">\n",
              "  <thead>\n",
              "    <tr style=\"text-align: right;\">\n",
              "      <th></th>\n",
              "      <th>id</th>\n",
              "      <th>comment_text</th>\n",
              "      <th>toxic</th>\n",
              "      <th>severe_toxic</th>\n",
              "      <th>obscene</th>\n",
              "      <th>threat</th>\n",
              "      <th>insult</th>\n",
              "      <th>identity_hate</th>\n",
              "    </tr>\n",
              "  </thead>\n",
              "  <tbody>\n",
              "    <tr>\n",
              "      <th>0</th>\n",
              "      <td>0000997932d777bf</td>\n",
              "      <td>Explanation\\nWhy the edits made under my usern...</td>\n",
              "      <td>0</td>\n",
              "      <td>0</td>\n",
              "      <td>0</td>\n",
              "      <td>0</td>\n",
              "      <td>0</td>\n",
              "      <td>0</td>\n",
              "    </tr>\n",
              "    <tr>\n",
              "      <th>1</th>\n",
              "      <td>000103f0d9cfb60f</td>\n",
              "      <td>D'aww! He matches this background colour I'm s...</td>\n",
              "      <td>0</td>\n",
              "      <td>0</td>\n",
              "      <td>0</td>\n",
              "      <td>0</td>\n",
              "      <td>0</td>\n",
              "      <td>0</td>\n",
              "    </tr>\n",
              "    <tr>\n",
              "      <th>2</th>\n",
              "      <td>000113f07ec002fd</td>\n",
              "      <td>Hey man, I'm really not trying to edit war. It...</td>\n",
              "      <td>0</td>\n",
              "      <td>0</td>\n",
              "      <td>0</td>\n",
              "      <td>0</td>\n",
              "      <td>0</td>\n",
              "      <td>0</td>\n",
              "    </tr>\n",
              "    <tr>\n",
              "      <th>3</th>\n",
              "      <td>0001b41b1c6bb37e</td>\n",
              "      <td>\"\\nMore\\nI can't make any real suggestions on ...</td>\n",
              "      <td>0</td>\n",
              "      <td>0</td>\n",
              "      <td>0</td>\n",
              "      <td>0</td>\n",
              "      <td>0</td>\n",
              "      <td>0</td>\n",
              "    </tr>\n",
              "    <tr>\n",
              "      <th>4</th>\n",
              "      <td>0001d958c54c6e35</td>\n",
              "      <td>You, sir, are my hero. Any chance you remember...</td>\n",
              "      <td>0</td>\n",
              "      <td>0</td>\n",
              "      <td>0</td>\n",
              "      <td>0</td>\n",
              "      <td>0</td>\n",
              "      <td>0</td>\n",
              "    </tr>\n",
              "    <tr>\n",
              "      <th>...</th>\n",
              "      <td>...</td>\n",
              "      <td>...</td>\n",
              "      <td>...</td>\n",
              "      <td>...</td>\n",
              "      <td>...</td>\n",
              "      <td>...</td>\n",
              "      <td>...</td>\n",
              "      <td>...</td>\n",
              "    </tr>\n",
              "    <tr>\n",
              "      <th>159566</th>\n",
              "      <td>ffe987279560d7ff</td>\n",
              "      <td>\":::::And for the second time of asking, when ...</td>\n",
              "      <td>0</td>\n",
              "      <td>0</td>\n",
              "      <td>0</td>\n",
              "      <td>0</td>\n",
              "      <td>0</td>\n",
              "      <td>0</td>\n",
              "    </tr>\n",
              "    <tr>\n",
              "      <th>159567</th>\n",
              "      <td>ffea4adeee384e90</td>\n",
              "      <td>You should be ashamed of yourself \\n\\nThat is ...</td>\n",
              "      <td>0</td>\n",
              "      <td>0</td>\n",
              "      <td>0</td>\n",
              "      <td>0</td>\n",
              "      <td>0</td>\n",
              "      <td>0</td>\n",
              "    </tr>\n",
              "    <tr>\n",
              "      <th>159568</th>\n",
              "      <td>ffee36eab5c267c9</td>\n",
              "      <td>Spitzer \\n\\nUmm, theres no actual article for ...</td>\n",
              "      <td>0</td>\n",
              "      <td>0</td>\n",
              "      <td>0</td>\n",
              "      <td>0</td>\n",
              "      <td>0</td>\n",
              "      <td>0</td>\n",
              "    </tr>\n",
              "    <tr>\n",
              "      <th>159569</th>\n",
              "      <td>fff125370e4aaaf3</td>\n",
              "      <td>And it looks like it was actually you who put ...</td>\n",
              "      <td>0</td>\n",
              "      <td>0</td>\n",
              "      <td>0</td>\n",
              "      <td>0</td>\n",
              "      <td>0</td>\n",
              "      <td>0</td>\n",
              "    </tr>\n",
              "    <tr>\n",
              "      <th>159570</th>\n",
              "      <td>fff46fc426af1f9a</td>\n",
              "      <td>\"\\nAnd ... I really don't think you understand...</td>\n",
              "      <td>0</td>\n",
              "      <td>0</td>\n",
              "      <td>0</td>\n",
              "      <td>0</td>\n",
              "      <td>0</td>\n",
              "      <td>0</td>\n",
              "    </tr>\n",
              "  </tbody>\n",
              "</table>\n",
              "<p>159571 rows × 8 columns</p>\n",
              "</div>"
            ],
            "text/plain": [
              "                      id                                       comment_text  \\\n",
              "0       0000997932d777bf  Explanation\\nWhy the edits made under my usern...   \n",
              "1       000103f0d9cfb60f  D'aww! He matches this background colour I'm s...   \n",
              "2       000113f07ec002fd  Hey man, I'm really not trying to edit war. It...   \n",
              "3       0001b41b1c6bb37e  \"\\nMore\\nI can't make any real suggestions on ...   \n",
              "4       0001d958c54c6e35  You, sir, are my hero. Any chance you remember...   \n",
              "...                  ...                                                ...   \n",
              "159566  ffe987279560d7ff  \":::::And for the second time of asking, when ...   \n",
              "159567  ffea4adeee384e90  You should be ashamed of yourself \\n\\nThat is ...   \n",
              "159568  ffee36eab5c267c9  Spitzer \\n\\nUmm, theres no actual article for ...   \n",
              "159569  fff125370e4aaaf3  And it looks like it was actually you who put ...   \n",
              "159570  fff46fc426af1f9a  \"\\nAnd ... I really don't think you understand...   \n",
              "\n",
              "        toxic  severe_toxic  obscene  threat  insult  identity_hate  \n",
              "0           0             0        0       0       0              0  \n",
              "1           0             0        0       0       0              0  \n",
              "2           0             0        0       0       0              0  \n",
              "3           0             0        0       0       0              0  \n",
              "4           0             0        0       0       0              0  \n",
              "...       ...           ...      ...     ...     ...            ...  \n",
              "159566      0             0        0       0       0              0  \n",
              "159567      0             0        0       0       0              0  \n",
              "159568      0             0        0       0       0              0  \n",
              "159569      0             0        0       0       0              0  \n",
              "159570      0             0        0       0       0              0  \n",
              "\n",
              "[159571 rows x 8 columns]"
            ]
          },
          "execution_count": 6,
          "metadata": {},
          "output_type": "execute_result"
        }
      ],
      "source": [
        "data = pd.read_csv(\"train.csv\")\n",
        "train_data = data[:int(0.8*159571)]\n",
        "test_data = data[int(0.8*159571):]\n",
        "data"
      ]
    },
    {
      "cell_type": "code",
      "execution_count": 3,
      "metadata": {},
      "outputs": [
        {
          "data": {
            "text/html": [
              "<div>\n",
              "<style scoped>\n",
              "    .dataframe tbody tr th:only-of-type {\n",
              "        vertical-align: middle;\n",
              "    }\n",
              "\n",
              "    .dataframe tbody tr th {\n",
              "        vertical-align: top;\n",
              "    }\n",
              "\n",
              "    .dataframe thead th {\n",
              "        text-align: right;\n",
              "    }\n",
              "</style>\n",
              "<table border=\"1\" class=\"dataframe\">\n",
              "  <thead>\n",
              "    <tr style=\"text-align: right;\">\n",
              "      <th></th>\n",
              "      <th>id</th>\n",
              "      <th>comment_text</th>\n",
              "      <th>toxic</th>\n",
              "      <th>severe_toxic</th>\n",
              "      <th>obscene</th>\n",
              "      <th>threat</th>\n",
              "      <th>insult</th>\n",
              "      <th>identity_hate</th>\n",
              "    </tr>\n",
              "  </thead>\n",
              "  <tbody>\n",
              "    <tr>\n",
              "      <th>79</th>\n",
              "      <td>003217c3eb469ba9</td>\n",
              "      <td>Hi! I am back again!\\nLast warning!\\nStop undo...</td>\n",
              "      <td>1</td>\n",
              "      <td>0</td>\n",
              "      <td>0</td>\n",
              "      <td>1</td>\n",
              "      <td>0</td>\n",
              "      <td>0</td>\n",
              "    </tr>\n",
              "    <tr>\n",
              "      <th>176</th>\n",
              "      <td>006b94add72ed61c</td>\n",
              "      <td>I think that your a Fagget get a oife and burn...</td>\n",
              "      <td>1</td>\n",
              "      <td>0</td>\n",
              "      <td>1</td>\n",
              "      <td>1</td>\n",
              "      <td>1</td>\n",
              "      <td>1</td>\n",
              "    </tr>\n",
              "    <tr>\n",
              "      <th>600</th>\n",
              "      <td>0199d6af27b715f3</td>\n",
              "      <td>I'm also a sock puppet of this account...SUPRI...</td>\n",
              "      <td>1</td>\n",
              "      <td>0</td>\n",
              "      <td>0</td>\n",
              "      <td>1</td>\n",
              "      <td>0</td>\n",
              "      <td>0</td>\n",
              "    </tr>\n",
              "    <tr>\n",
              "      <th>802</th>\n",
              "      <td>02230885017a50c5</td>\n",
              "      <td>Fuck you, Smith. Please have me notified when ...</td>\n",
              "      <td>1</td>\n",
              "      <td>0</td>\n",
              "      <td>1</td>\n",
              "      <td>1</td>\n",
              "      <td>1</td>\n",
              "      <td>0</td>\n",
              "    </tr>\n",
              "    <tr>\n",
              "      <th>1017</th>\n",
              "      <td>02c6e41e4b317ac3</td>\n",
              "      <td>WOULDN'T BE THE FIRST TIME BITCH. FUCK YOU I'L...</td>\n",
              "      <td>1</td>\n",
              "      <td>1</td>\n",
              "      <td>1</td>\n",
              "      <td>1</td>\n",
              "      <td>1</td>\n",
              "      <td>1</td>\n",
              "    </tr>\n",
              "    <tr>\n",
              "      <th>1085</th>\n",
              "      <td>02f77830b4d71c0f</td>\n",
              "      <td>Whoever put a notices on my page. I will kill u</td>\n",
              "      <td>1</td>\n",
              "      <td>0</td>\n",
              "      <td>0</td>\n",
              "      <td>1</td>\n",
              "      <td>0</td>\n",
              "      <td>0</td>\n",
              "    </tr>\n",
              "    <tr>\n",
              "      <th>1312</th>\n",
              "      <td>039296aa294ee10b</td>\n",
              "      <td>SHUT UP, YOU FAT POOP, OR I WILL KICK YOUR ASS!!!</td>\n",
              "      <td>1</td>\n",
              "      <td>1</td>\n",
              "      <td>1</td>\n",
              "      <td>1</td>\n",
              "      <td>1</td>\n",
              "      <td>1</td>\n",
              "    </tr>\n",
              "    <tr>\n",
              "      <th>1535</th>\n",
              "      <td>0420f5f4e950566b</td>\n",
              "      <td>Demonte Morton \\n\\nU bastard stop deletin' my ...</td>\n",
              "      <td>1</td>\n",
              "      <td>0</td>\n",
              "      <td>1</td>\n",
              "      <td>1</td>\n",
              "      <td>1</td>\n",
              "      <td>1</td>\n",
              "    </tr>\n",
              "    <tr>\n",
              "      <th>1878</th>\n",
              "      <td>0512f33cf8807fa2</td>\n",
              "      <td>Aaron Swartz \\n\\nStop fucking reverting my god...</td>\n",
              "      <td>1</td>\n",
              "      <td>0</td>\n",
              "      <td>1</td>\n",
              "      <td>1</td>\n",
              "      <td>1</td>\n",
              "      <td>1</td>\n",
              "    </tr>\n",
              "    <tr>\n",
              "      <th>2018</th>\n",
              "      <td>057894cf4738a5d8</td>\n",
              "      <td>You are a gay homo. I hope you choke on your p...</td>\n",
              "      <td>1</td>\n",
              "      <td>0</td>\n",
              "      <td>1</td>\n",
              "      <td>1</td>\n",
              "      <td>1</td>\n",
              "      <td>1</td>\n",
              "    </tr>\n",
              "  </tbody>\n",
              "</table>\n",
              "</div>"
            ],
            "text/plain": [
              "                    id                                       comment_text  \\\n",
              "79    003217c3eb469ba9  Hi! I am back again!\\nLast warning!\\nStop undo...   \n",
              "176   006b94add72ed61c  I think that your a Fagget get a oife and burn...   \n",
              "600   0199d6af27b715f3  I'm also a sock puppet of this account...SUPRI...   \n",
              "802   02230885017a50c5  Fuck you, Smith. Please have me notified when ...   \n",
              "1017  02c6e41e4b317ac3  WOULDN'T BE THE FIRST TIME BITCH. FUCK YOU I'L...   \n",
              "1085  02f77830b4d71c0f    Whoever put a notices on my page. I will kill u   \n",
              "1312  039296aa294ee10b  SHUT UP, YOU FAT POOP, OR I WILL KICK YOUR ASS!!!   \n",
              "1535  0420f5f4e950566b  Demonte Morton \\n\\nU bastard stop deletin' my ...   \n",
              "1878  0512f33cf8807fa2  Aaron Swartz \\n\\nStop fucking reverting my god...   \n",
              "2018  057894cf4738a5d8  You are a gay homo. I hope you choke on your p...   \n",
              "\n",
              "      toxic  severe_toxic  obscene  threat  insult  identity_hate  \n",
              "79        1             0        0       1       0              0  \n",
              "176       1             0        1       1       1              1  \n",
              "600       1             0        0       1       0              0  \n",
              "802       1             0        1       1       1              0  \n",
              "1017      1             1        1       1       1              1  \n",
              "1085      1             0        0       1       0              0  \n",
              "1312      1             1        1       1       1              1  \n",
              "1535      1             0        1       1       1              1  \n",
              "1878      1             0        1       1       1              1  \n",
              "2018      1             0        1       1       1              1  "
            ]
          },
          "execution_count": 3,
          "metadata": {},
          "output_type": "execute_result"
        }
      ],
      "source": [
        "train_data[train_data[\"threat\"]==1][:10]"
      ]
    },
    {
      "cell_type": "markdown",
      "metadata": {},
      "source": [
        "### Visualization"
      ]
    },
    {
      "cell_type": "code",
      "execution_count": 4,
      "metadata": {},
      "outputs": [
        {
          "data": {
            "text/plain": [
              "(array([100838.,  16214.,   5278.,   2070.,    964.,    609.,    466.,\n",
              "           386.,    313.,    518.]),\n",
              " array([   6. ,  505.4, 1004.8, 1504.2, 2003.6, 2503. , 3002.4, 3501.8,\n",
              "        4001.2, 4500.6, 5000. ]),\n",
              " <BarContainer object of 10 artists>)"
            ]
          },
          "execution_count": 4,
          "metadata": {},
          "output_type": "execute_result"
        },
        {
          "data": {
            "image/png": "[encoded data removed]",
            "text/plain": [
              "<Figure size 640x480 with 1 Axes>"
            ]
          },
          "metadata": {},
          "output_type": "display_data"
        }
      ],
      "source": [
        "plt.hist([len(i) for i in train_data[\"comment_text\"]])"
      ]
    },
    {
      "cell_type": "code",
      "execution_count": 5,
      "metadata": {},
      "outputs": [
        {
          "data": {
            "image/png": "[encoded data removed]",
            "text/plain": [
              "<Figure size 600x400 with 1 Axes>"
            ]
          },
          "metadata": {},
          "output_type": "display_data"
        },
        {
          "name": "stdout",
          "output_type": "stream",
          "text": [
            "[  386  1100  1284  6295  6780 12257]\n"
          ]
        }
      ],
      "source": [
        "column_labels = train_data.columns.tolist()[2:]\n",
        "label_counts = train_data[column_labels].sum().sort_values()\n",
        "\n",
        "plt.figure(figsize=(6, 4))\n",
        "\n",
        "ax = sns.barplot(x=label_counts.values,\n",
        "\t\t\t\ty=label_counts.index, palette='viridis')\n",
        "\n",
        "plt.xlabel('Number of Occurrences')\n",
        "plt.ylabel('Labels')\n",
        "plt.title('Distribution of Label Occurrences')\n",
        "plt.show()\n",
        "print(label_counts.values)"
      ]
    },
    {
      "cell_type": "code",
      "execution_count": 8,
      "metadata": {},
      "outputs": [
        {
          "data": {
            "image/png": "[encoded data removed]",
            "text/plain": [
              "<Figure size 600x400 with 1 Axes>"
            ]
          },
          "metadata": {},
          "output_type": "display_data"
        }
      ],
      "source": [
        "train_toxic = train_data[train_data[column_labels].sum(axis=1) > 0]\n",
        "train_clean = train_data[train_data[column_labels].sum(axis=1) == 0]\n",
        "\n",
        "num_toxic = len(train_toxic)\n",
        "num_clean = len(train_clean)\n",
        "\n",
        "plot_data = pd.DataFrame(\n",
        "\t{'Category': ['Toxic', 'Clean'], 'Count': [num_toxic, num_clean]})\n",
        "\n",
        "plt.figure(figsize=(6, 4))\n",
        "\n",
        "ax = sns.barplot(x='Count', y='Category', data=plot_data, palette='viridis')\n",
        "\n",
        "plt.xlabel('Number of Comments')\n",
        "plt.ylabel('Category')\n",
        "plt.title('Distribution of Toxic and Clean Comments')\n",
        "\n",
        "ax.tick_params()\n",
        "\n",
        "plt.show()"
      ]
    },
    {
      "cell_type": "code",
      "execution_count": null,
      "metadata": {},
      "outputs": [],
      "source": [
        "print(train_data[train_data[\"threat\"]==1 and train_data[column_labels].sum(axis=1) == 1])"
      ]
    },
    {
      "cell_type": "code",
      "execution_count": 9,
      "metadata": {},
      "outputs": [
        {
          "data": {
            "text/plain": [
              "<Axes: title={'center': 'Correlation of Toxicity Criteria with Each Other'}>"
            ]
          },
          "execution_count": 9,
          "metadata": {},
          "output_type": "execute_result"
        },
        {
          "data": {
            "image/png": "[encoded data removed]",
            "text/plain": [
              "<Figure size 1500x1000 with 2 Axes>"
            ]
          },
          "metadata": {},
          "output_type": "display_data"
        }
      ],
      "source": [
        "fig, ax = plt.subplots(figsize=(15, 10))\n",
        "\n",
        "labels_list = ['toxic', 'severe_toxic', 'obscene',\n",
        "\t\t\t\t'threat', 'insult', 'identity_hate']\n",
        "plt.title('Correlation of Toxicity Criteria with Each Other')\n",
        "\n",
        "sns.heatmap(train_data[labels_list].corr(),cmap='rocket_r', annot=True)"
      ]
    },
    {
      "cell_type": "code",
      "execution_count": 10,
      "metadata": {},
      "outputs": [],
      "source": [
        "non_toxic_undersample = train_data[train_data['toxic'] == 0].sample(n=(train_data['toxic'] == 1).sum(), random_state=201)\n",
        "non_toxic_undersample\n",
        "train_data = pd.concat([train_data[train_data['toxic'] == 1], non_toxic_undersample])"
      ]
    },
    {
      "cell_type": "code",
      "execution_count": 11,
      "metadata": {},
      "outputs": [
        {
          "data": {
            "image/png": "[encoded data removed]",
            "text/plain": [
              "<Figure size 600x400 with 1 Axes>"
            ]
          },
          "metadata": {},
          "output_type": "display_data"
        }
      ],
      "source": [
        "train_toxic = train_data[train_data[column_labels].sum(axis=1) > 0]\n",
        "train_clean = train_data[train_data[column_labels].sum(axis=1) == 0]\n",
        "\n",
        "num_toxic = len(train_toxic)\n",
        "num_clean = len(train_clean)\n",
        "\n",
        "plot_data = pd.DataFrame(\n",
        "\t{'Category': ['Toxic', 'Clean'], 'Count': [num_toxic, num_clean]})\n",
        "\n",
        "plt.figure(figsize=(6, 4))\n",
        "\n",
        "ax = sns.barplot(x='Count', y='Category', data=plot_data, palette='viridis')\n",
        "\n",
        "plt.xlabel('Number of Comments')\n",
        "plt.ylabel('Category')\n",
        "plt.title('Distribution of Toxic and Clean Comments')\n",
        "\n",
        "ax.tick_params()\n",
        "\n",
        "plt.show()"
      ]
    },
    {
      "cell_type": "markdown",
      "metadata": {
        "id": "GkcF3xzSKU2x"
      },
      "source": [
        "### Preprocessing"
      ]
    },
    {
      "cell_type": "code",
      "execution_count": 12,
      "metadata": {
        "colab": {
          "base_uri": "https://localhost:8080/"
        },
        "id": "8KQ1VgJgKfig",
        "outputId": "2d690bbf-7f41-46de-ec05-78e4728c9b57"
      },
      "outputs": [
        {
          "data": {
            "text/plain": [
              "array([[1, 1, 1, 0, 1, 0],\n",
              "       [1, 0, 0, 0, 0, 0],\n",
              "       [1, 0, 0, 0, 0, 0],\n",
              "       ...,\n",
              "       [0, 0, 0, 0, 0, 0],\n",
              "       [0, 0, 0, 0, 0, 0],\n",
              "       [0, 0, 0, 0, 0, 0]])"
            ]
          },
          "execution_count": 12,
          "metadata": {},
          "output_type": "execute_result"
        }
      ],
      "source": [
        "x_train = train_data[\"comment_text\"]\n",
        "y_train = train_data[train_data.columns[2:]].values\n",
        "y_train"
      ]
    },
    {
      "cell_type": "code",
      "execution_count": 13,
      "metadata": {},
      "outputs": [
        {
          "data": {
            "text/plain": [
              "array([[0, 0, 0, 0, 0, 0],\n",
              "       [0, 0, 0, 0, 0, 0],\n",
              "       [0, 0, 0, 0, 0, 0],\n",
              "       ...,\n",
              "       [0, 0, 0, 0, 0, 0],\n",
              "       [0, 0, 0, 0, 0, 0],\n",
              "       [0, 0, 0, 0, 0, 0]])"
            ]
          },
          "execution_count": 13,
          "metadata": {},
          "output_type": "execute_result"
        }
      ],
      "source": [
        "x_test = test_data[\"comment_text\"]\n",
        "y_test = test_data[test_data.columns[2:]].values\n",
        "y_test"
      ]
    },
    {
      "cell_type": "code",
      "execution_count": 14,
      "metadata": {
        "id": "LvntZZsYK9pA"
      },
      "outputs": [],
      "source": [
        "MAX_FEATURES = 200000 #Number of words in vocab"
      ]
    },
    {
      "cell_type": "code",
      "execution_count": 15,
      "metadata": {
        "id": "La97hu_GLHzm"
      },
      "outputs": [
        {
          "name": "stderr",
          "output_type": "stream",
          "text": [
            "2023-08-30 20:45:44.261730: I tensorflow/compiler/xla/stream_executor/cuda/cuda_gpu_executor.cc:995] successful NUMA node read from SysFS had negative value (-1), but there must be at least one NUMA node, so returning NUMA node zero. See more at https://github.com/torvalds/linux/blob/v6.0/Documentation/ABI/testing/sysfs-bus-pci#L344-L355\n",
            "2023-08-30 20:45:44.261995: I tensorflow/compiler/xla/stream_executor/cuda/cuda_gpu_executor.cc:995] successful NUMA node read from SysFS had negative value (-1), but there must be at least one NUMA node, so returning NUMA node zero. See more at https://github.com/torvalds/linux/blob/v6.0/Documentation/ABI/testing/sysfs-bus-pci#L344-L355\n",
            "2023-08-30 20:45:44.262183: I tensorflow/compiler/xla/stream_executor/cuda/cuda_gpu_executor.cc:995] successful NUMA node read from SysFS had negative value (-1), but there must be at least one NUMA node, so returning NUMA node zero. See more at https://github.com/torvalds/linux/blob/v6.0/Documentation/ABI/testing/sysfs-bus-pci#L344-L355\n",
            "2023-08-30 20:45:44.955163: I tensorflow/compiler/xla/stream_executor/cuda/cuda_gpu_executor.cc:995] successful NUMA node read from SysFS had negative value (-1), but there must be at least one NUMA node, so returning NUMA node zero. See more at https://github.com/torvalds/linux/blob/v6.0/Documentation/ABI/testing/sysfs-bus-pci#L344-L355\n",
            "2023-08-30 20:45:44.955365: I tensorflow/compiler/xla/stream_executor/cuda/cuda_gpu_executor.cc:995] successful NUMA node read from SysFS had negative value (-1), but there must be at least one NUMA node, so returning NUMA node zero. See more at https://github.com/torvalds/linux/blob/v6.0/Documentation/ABI/testing/sysfs-bus-pci#L344-L355\n",
            "2023-08-30 20:45:44.955527: I tensorflow/compiler/xla/stream_executor/cuda/cuda_gpu_executor.cc:995] successful NUMA node read from SysFS had negative value (-1), but there must be at least one NUMA node, so returning NUMA node zero. See more at https://github.com/torvalds/linux/blob/v6.0/Documentation/ABI/testing/sysfs-bus-pci#L344-L355\n",
            "2023-08-30 20:45:44.955654: I tensorflow/core/common_runtime/gpu/gpu_device.cc:1639] Created device /job:localhost/replica:0/task:0/device:GPU:0 with 2800 MB memory:  -> device: 0, name: NVIDIA GeForce GTX 1650, pci bus id: 0000:01:00.0, compute capability: 7.5\n"
          ]
        }
      ],
      "source": [
        "vectorizer = TextVectorization(max_tokens=MAX_FEATURES,\n",
        "                               output_sequence_length=1800,\n",
        "                               output_mode='int')"
      ]
    },
    {
      "cell_type": "code",
      "execution_count": 16,
      "metadata": {
        "id": "nLs0bR4VMN6Z"
      },
      "outputs": [
        {
          "name": "stderr",
          "output_type": "stream",
          "text": [
            "2023-08-30 20:45:47.024956: W tensorflow/tsl/framework/cpu_allocator_impl.cc:83] Allocation of 353001600 exceeds 10% of free system memory.\n"
          ]
        }
      ],
      "source": [
        "vectorizer.adapt(x_train.values)\n",
        "vectorized_train_text = vectorizer(x_train.values)"
      ]
    },
    {
      "cell_type": "code",
      "execution_count": 17,
      "metadata": {},
      "outputs": [
        {
          "name": "stderr",
          "output_type": "stream",
          "text": [
            "2023-08-30 20:45:47.644879: W tensorflow/tsl/framework/cpu_allocator_impl.cc:83] Allocation of 459576000 exceeds 10% of free system memory.\n"
          ]
        }
      ],
      "source": [
        "# vectorizer.adapt(x_test.values)\n",
        "vectorized_test_text = vectorizer(x_test.values)"
      ]
    },
    {
      "cell_type": "code",
      "execution_count": 18,
      "metadata": {
        "colab": {
          "base_uri": "https://localhost:8080/"
        },
        "id": "iLEy0o6YMlY6",
        "outputId": "36c2642f-27e7-4e11-aa64-73aa1bb5e4e6"
      },
      "outputs": [
        {
          "name": "stderr",
          "output_type": "stream",
          "text": [
            "2023-08-30 20:45:49.414661: W tensorflow/tsl/framework/cpu_allocator_impl.cc:83] Allocation of 353001600 exceeds 10% of free system memory.\n"
          ]
        },
        {
          "data": {
            "text/plain": [
              "(array([[ 456, 2162, 6566, ...,    0,    0,    0],\n",
              "        [ 179,   24,   49, ...,    0,    0,    0],\n",
              "        [  14,    2, 1079, ...,    0,    0,    0],\n",
              "        ...,\n",
              "        [  74,   29,    3, ...,    0,    0,    0],\n",
              "        [ 943,    6,  256, ...,    0,    0,    0],\n",
              "        [  16,   32,   18, ...,    0,    0,    0]]),\n",
              " array([[1, 0, 0, 0, 1, 0],\n",
              "        [1, 1, 1, 0, 1, 0],\n",
              "        [1, 0, 0, 0, 0, 0],\n",
              "        [0, 0, 0, 0, 0, 0],\n",
              "        [0, 0, 0, 0, 0, 0],\n",
              "        [0, 0, 0, 0, 0, 0],\n",
              "        [1, 0, 1, 0, 1, 0],\n",
              "        [0, 0, 0, 0, 0, 0],\n",
              "        [0, 0, 0, 0, 0, 0],\n",
              "        [1, 0, 0, 0, 0, 0],\n",
              "        [0, 0, 0, 0, 0, 0],\n",
              "        [0, 0, 0, 0, 0, 0],\n",
              "        [1, 0, 1, 0, 1, 0],\n",
              "        [0, 0, 0, 0, 0, 0],\n",
              "        [1, 0, 1, 0, 1, 0],\n",
              "        [1, 0, 1, 0, 0, 1],\n",
              "        [0, 0, 0, 0, 0, 0],\n",
              "        [0, 0, 0, 0, 0, 0],\n",
              "        [1, 0, 1, 0, 0, 0],\n",
              "        [0, 0, 0, 0, 0, 0],\n",
              "        [0, 0, 0, 0, 0, 0],\n",
              "        [0, 0, 0, 0, 0, 0],\n",
              "        [1, 0, 1, 1, 0, 0],\n",
              "        [0, 0, 0, 0, 0, 0],\n",
              "        [1, 0, 1, 0, 1, 0],\n",
              "        [1, 0, 1, 0, 1, 0],\n",
              "        [1, 1, 1, 0, 1, 0],\n",
              "        [1, 0, 1, 0, 1, 1],\n",
              "        [0, 0, 0, 0, 0, 0],\n",
              "        [0, 0, 0, 0, 0, 0],\n",
              "        [0, 0, 0, 0, 0, 0],\n",
              "        [0, 0, 0, 0, 0, 0]]))"
            ]
          },
          "execution_count": 18,
          "metadata": {},
          "output_type": "execute_result"
        }
      ],
      "source": [
        "#MCSHBAP: map, cache, shuffle, batch, prefetch\n",
        "train_dataset = tf.data.Dataset.from_tensor_slices((vectorized_train_text,y_train))\n",
        "train_dataset = train_dataset.cache()\n",
        "train_dataset = train_dataset.shuffle(160000)\n",
        "train_dataset = train_dataset.batch(32)\n",
        "train_dataset = train_dataset.prefetch(8) #Prevents bottleneck\n",
        "train_dataset.as_numpy_iterator().next()"
      ]
    },
    {
      "cell_type": "code",
      "execution_count": 19,
      "metadata": {},
      "outputs": [
        {
          "name": "stderr",
          "output_type": "stream",
          "text": [
            "2023-08-30 20:45:49.704937: W tensorflow/tsl/framework/cpu_allocator_impl.cc:83] Allocation of 459576000 exceeds 10% of free system memory.\n"
          ]
        },
        {
          "data": {
            "text/plain": [
              "(array([[    6,   232,    80, ...,     0,     0,     0],\n",
              "        [  684,     1, 50953, ...,     0,     0,     0],\n",
              "        [  180,     3,   811, ...,     0,     0,     0],\n",
              "        ...,\n",
              "        [ 1335,     4,    77, ...,     0,     0,     0],\n",
              "        [  344,     7,   119, ...,     0,     0,     0],\n",
              "        [    7,   734, 13750, ...,     0,     0,     0]]),\n",
              " array([[1, 0, 0, 0, 0, 0],\n",
              "        [0, 0, 0, 0, 0, 0],\n",
              "        [0, 0, 0, 0, 0, 0],\n",
              "        [0, 0, 0, 0, 0, 0],\n",
              "        [0, 0, 0, 0, 0, 0],\n",
              "        [0, 0, 0, 0, 0, 0],\n",
              "        [0, 0, 0, 0, 0, 0],\n",
              "        [0, 0, 0, 0, 0, 0],\n",
              "        [0, 0, 0, 0, 0, 0],\n",
              "        [0, 0, 0, 0, 0, 0],\n",
              "        [0, 0, 0, 0, 0, 0],\n",
              "        [0, 0, 0, 0, 0, 0],\n",
              "        [0, 0, 0, 0, 0, 0],\n",
              "        [0, 0, 0, 0, 0, 0],\n",
              "        [1, 0, 0, 0, 0, 0],\n",
              "        [0, 0, 0, 0, 0, 0],\n",
              "        [0, 0, 0, 0, 0, 0],\n",
              "        [0, 0, 0, 0, 0, 0],\n",
              "        [0, 0, 0, 0, 0, 0],\n",
              "        [0, 0, 0, 0, 0, 0],\n",
              "        [0, 0, 0, 0, 0, 0],\n",
              "        [0, 0, 0, 0, 0, 0],\n",
              "        [0, 0, 0, 0, 0, 0],\n",
              "        [0, 0, 0, 0, 0, 0],\n",
              "        [0, 0, 0, 0, 0, 0],\n",
              "        [0, 0, 0, 0, 0, 0],\n",
              "        [0, 0, 0, 0, 0, 0],\n",
              "        [0, 0, 0, 0, 0, 0],\n",
              "        [0, 0, 0, 0, 0, 0],\n",
              "        [0, 0, 0, 0, 0, 0],\n",
              "        [0, 0, 0, 0, 0, 0],\n",
              "        [0, 0, 0, 0, 0, 0]]))"
            ]
          },
          "execution_count": 19,
          "metadata": {},
          "output_type": "execute_result"
        }
      ],
      "source": [
        "#MCSHBAP: map, cache, shuffle, batch, prefetch\n",
        "test_dataset = tf.data.Dataset.from_tensor_slices((vectorized_test_text,y_test))\n",
        "test_dataset = test_dataset.cache()\n",
        "test_dataset = test_dataset.shuffle(160000)\n",
        "test_dataset = test_dataset.batch(32)\n",
        "test_dataset = test_dataset.prefetch(8) #Prevents bottleneck\n",
        "test_dataset.as_numpy_iterator().next()"
      ]
    },
    {
      "cell_type": "code",
      "execution_count": 20,
      "metadata": {
        "colab": {
          "base_uri": "https://localhost:8080/"
        },
        "id": "vXTh8rjR0Bbp",
        "outputId": "ad06278f-96d6-4213-cd0d-b6016b249823"
      },
      "outputs": [
        {
          "data": {
            "text/plain": [
              "((32, 1800), (32, 6))"
            ]
          },
          "execution_count": 20,
          "metadata": {},
          "output_type": "execute_result"
        }
      ],
      "source": [
        "x_batch, y_batch = train_dataset.as_numpy_iterator().next()\n",
        "x_batch.shape,y_batch.shape"
      ]
    },
    {
      "cell_type": "code",
      "execution_count": 21,
      "metadata": {
        "id": "u-UZ_DEJ03Xy"
      },
      "outputs": [
        {
          "data": {
            "text/plain": [
              "((32, 1800), (32, 6))"
            ]
          },
          "execution_count": 21,
          "metadata": {},
          "output_type": "execute_result"
        }
      ],
      "source": [
        "x_batch, y_batch = test_dataset.as_numpy_iterator().next()\n",
        "x_batch.shape,y_batch.shape"
      ]
    },
    {
      "cell_type": "markdown",
      "metadata": {
        "id": "ehc_mnP1qYmi"
      },
      "source": [
        "### Model Creation (Bidirectional LSTM)\n"
      ]
    },
    {
      "cell_type": "code",
      "execution_count": 22,
      "metadata": {
        "id": "-bE5PnMI2RXK"
      },
      "outputs": [],
      "source": [
        "model = Sequential()\n",
        "model.add(Embedding(MAX_FEATURES+1, 32))\n",
        "model.add(Bidirectional(LSTM(32, activation = \"tanh\")))\n",
        "model.add(Dense(256, activation=\"relu\"))\n",
        "model.add(Dense(128, activation=\"relu\"))\n",
        "model.add(Dense(6, activation=\"sigmoid\"))"
      ]
    },
    {
      "cell_type": "code",
      "execution_count": 23,
      "metadata": {
        "colab": {
          "base_uri": "https://localhost:8080/"
        },
        "id": "KRMr8Ze0_w1j",
        "outputId": "ac706eea-4ef1-4579-9c45-aa7e85904d11"
      },
      "outputs": [
        {
          "name": "stdout",
          "output_type": "stream",
          "text": [
            "Model: \"sequential\"\n",
            "_________________________________________________________________\n",
            " Layer (type)                Output Shape              Param #   \n",
            "=================================================================\n",
            " embedding (Embedding)       (None, None, 32)          6400032   \n",
            "                                                                 \n",
            " bidirectional (Bidirection  (None, 64)                16640     \n",
            " al)                                                             \n",
            "                                                                 \n",
            " dense (Dense)               (None, 256)               16640     \n",
            "                                                                 \n",
            " dense_1 (Dense)             (None, 128)               32896     \n",
            "                                                                 \n",
            " dense_2 (Dense)             (None, 6)                 774       \n",
            "                                                                 \n",
            "=================================================================\n",
            "Total params: 6466982 (24.67 MB)\n",
            "Trainable params: 6466982 (24.67 MB)\n",
            "Non-trainable params: 0 (0.00 Byte)\n",
            "_________________________________________________________________\n"
          ]
        }
      ],
      "source": [
        "model.summary()"
      ]
    },
    {
      "cell_type": "code",
      "execution_count": 24,
      "metadata": {
        "id": "vxT59S5wDHSO"
      },
      "outputs": [],
      "source": [
        "model.compile(loss = tf.keras.losses.BinaryCrossentropy(),\n",
        "               optimizer=\"adam\",\n",
        "               metrics=[\"accuracy\"])"
      ]
    },
    {
      "cell_type": "code",
      "execution_count": 25,
      "metadata": {
        "colab": {
          "base_uri": "https://localhost:8080/",
          "height": 1000
        },
        "id": "AcDR2FLHDXZW",
        "outputId": "eb244aa4-1ad7-42ff-9a1f-362656bce924"
      },
      "outputs": [
        {
          "name": "stdout",
          "output_type": "stream",
          "text": [
            "Epoch 1/10\n"
          ]
        },
        {
          "name": "stderr",
          "output_type": "stream",
          "text": [
            "2023-08-30 20:46:02.930587: I tensorflow/compiler/xla/stream_executor/cuda/cuda_dnn.cc:432] Loaded cuDNN version 8600\n",
            "2023-08-30 20:46:03.218503: I tensorflow/compiler/xla/service/service.cc:168] XLA service 0x7f319ddcba10 initialized for platform CUDA (this does not guarantee that XLA will be used). Devices:\n",
            "2023-08-30 20:46:03.218532: I tensorflow/compiler/xla/service/service.cc:176]   StreamExecutor device (0): NVIDIA GeForce GTX 1650, Compute Capability 7.5\n",
            "2023-08-30 20:46:03.224981: I tensorflow/compiler/mlir/tensorflow/utils/dump_mlir_util.cc:255] disabling MLIR crash reproducer, set env var `MLIR_CRASH_REPRODUCER_DIRECTORY` to enable.\n",
            "2023-08-30 20:46:03.260214: W tensorflow/compiler/xla/service/gpu/llvm_gpu_backend/gpu_backend_lib.cc:543] Can't find libdevice directory ${CUDA_DIR}/nvvm/libdevice. This may result in compilation or runtime failures, if the program we try to run uses routines from libdevice.\n",
            "Searched for CUDA in the following directories:\n",
            "  ./cuda_sdk_lib\n",
            "  /usr/local/cuda-11.8\n",
            "  /usr/local/cuda\n",
            "  .\n",
            "You can choose the search directory by setting xla_gpu_cuda_data_dir in HloModule's DebugOptions.  For most apps, setting the environment variable XLA_FLAGS=--xla_gpu_cuda_data_dir=/path/to/cuda will work.\n",
            "2023-08-30 20:46:03.370696: I ./tensorflow/compiler/jit/device_compiler.h:186] Compiled cluster using XLA!  This line is logged at most once for the lifetime of the process.\n"
          ]
        },
        {
          "name": "stdout",
          "output_type": "stream",
          "text": [
            "767/767 [==============================] - 160s 194ms/step - loss: 0.2415 - accuracy: 0.9938 - val_loss: 0.0690 - val_accuracy: 0.9941\n",
            "Epoch 2/10\n",
            "767/767 [==============================] - 120s 156ms/step - loss: 0.1598 - accuracy: 0.9961 - val_loss: 0.0786 - val_accuracy: 0.9941\n",
            "Epoch 3/10\n",
            "767/767 [==============================] - 101s 132ms/step - loss: 0.1310 - accuracy: 0.9917 - val_loss: 0.0671 - val_accuracy: 0.9941\n",
            "Epoch 4/10\n",
            "767/767 [==============================] - 102s 132ms/step - loss: 0.1059 - accuracy: 0.9674 - val_loss: 0.0782 - val_accuracy: 0.8229\n",
            "Epoch 5/10\n",
            "767/767 [==============================] - 93s 122ms/step - loss: 0.0876 - accuracy: 0.9292 - val_loss: 0.1258 - val_accuracy: 0.9611\n"
          ]
        }
      ],
      "source": [
        "stop_early = tf.keras.callbacks.EarlyStopping(monitor=\"accuracy\",patience=3)\n",
        "model_history = model.fit(x = train_dataset,\n",
        "                            epochs=10,\n",
        "                            validation_data=test_dataset,\n",
        "                          callbacks = [stop_early]\n",
        "                            )"
      ]
    },
    {
      "cell_type": "code",
      "execution_count": 26,
      "metadata": {},
      "outputs": [
        {
          "data": {
            "image/png": "[encoded data removed]",
            "text/plain": [
              "<Figure size 1000x600 with 1 Axes>"
            ]
          },
          "metadata": {},
          "output_type": "display_data"
        }
      ],
      "source": [
        "plt.figure(figsize=(10, 6))\n",
        "plt.plot(model_history.history['accuracy'], label='Accuracy')\n",
        "plt.plot(model_history.history['val_accuracy'], label='Validation Accuracy')\n",
        "plt.title('Model Accuracy')\n",
        "plt.xlabel('Epoch')\n",
        "plt.ylabel('Accuracy')\n",
        "plt.legend()\n",
        "plt.grid(True)\n",
        "plt.show()"
      ]
    },
    {
      "cell_type": "code",
      "execution_count": 27,
      "metadata": {},
      "outputs": [
        {
          "data": {
            "image/png": "[encoded data removed]",
            "text/plain": [
              "<Figure size 1000x600 with 1 Axes>"
            ]
          },
          "metadata": {},
          "output_type": "display_data"
        }
      ],
      "source": [
        "plt.figure(figsize=(10, 6))\n",
        "plt.plot(model_history.history['loss'], label='Loss')\n",
        "plt.plot(model_history.history['val_loss'], label='Validation Loss')\n",
        "plt.title('Model Loss')\n",
        "plt.xlabel('Epoch')\n",
        "plt.ylabel('Loss')\n",
        "plt.legend()\n",
        "plt.grid(True)\n",
        "plt.show()"
      ]
    },
    {
      "cell_type": "code",
      "execution_count": 28,
      "metadata": {
        "id": "MtGM7vQ0DrTS"
      },
      "outputs": [
        {
          "name": "stdout",
          "output_type": "stream",
          "text": [
            "INFO:tensorflow:Assets written to: LSTM-Model/assets\n"
          ]
        },
        {
          "name": "stderr",
          "output_type": "stream",
          "text": [
            "INFO:tensorflow:Assets written to: LSTM-Model/assets\n"
          ]
        }
      ],
      "source": [
        "model.save(\"LSTM-Model\")"
      ]
    },
    {
      "cell_type": "markdown",
      "metadata": {
        "id": "zfNWvfX1q_6Y"
      },
      "source": [
        "### Using the model to predict"
      ]
    },
    {
      "cell_type": "code",
      "execution_count": 29,
      "metadata": {},
      "outputs": [
        {
          "name": "stdout",
          "output_type": "stream",
          "text": [
            "998/998 [==============================] - 29s 28ms/step\n"
          ]
        }
      ],
      "source": [
        "y_pred = model.predict(test_dataset)\n",
        "y_pred = (y_pred>0.5).astype(int)"
      ]
    },
    {
      "cell_type": "code",
      "execution_count": 30,
      "metadata": {},
      "outputs": [],
      "source": [
        "y_true = []\n",
        "for i in test_dataset.as_numpy_iterator():\n",
        "    for j in i[1]:\n",
        "        y_true += [j]\n",
        "y_true = np.array(y_true)"
      ]
    },
    {
      "cell_type": "code",
      "execution_count": 31,
      "metadata": {},
      "outputs": [],
      "source": [
        "cm_y_pred = []\n",
        "for i in y_pred:\n",
        "    cm_y_pred += [i[0]]\n",
        "cm_y_pred = np.array(cm_y_pred)    "
      ]
    },
    {
      "cell_type": "code",
      "execution_count": 32,
      "metadata": {},
      "outputs": [],
      "source": [
        "cm_y_true = []\n",
        "for i in y_true:\n",
        "    cm_y_true += [i[0]]\n",
        "cm_y_true = np.array(cm_y_true)"
      ]
    },
    {
      "cell_type": "code",
      "execution_count": 33,
      "metadata": {},
      "outputs": [
        {
          "data": {
            "text/plain": [
              "<sklearn.metrics._plot.confusion_matrix.ConfusionMatrixDisplay at 0x7f32d07c7d30>"
            ]
          },
          "execution_count": 33,
          "metadata": {},
          "output_type": "execute_result"
        },
        {
          "data": {
            "image/png": "[encoded data removed]",
            "text/plain": [
              "<Figure size 640x480 with 2 Axes>"
            ]
          },
          "metadata": {},
          "output_type": "display_data"
        }
      ],
      "source": [
        "confusion_matrix = metrics.confusion_matrix(cm_y_true,cm_y_pred)\n",
        "cm_display = metrics.ConfusionMatrixDisplay(confusion_matrix=confusion_matrix,display_labels=[\"Not Toxic\",\"Toxic\"])\n",
        "cm_display.plot()"
      ]
    },
    {
      "cell_type": "code",
      "execution_count": 34,
      "metadata": {},
      "outputs": [],
      "source": [
        "MAX_FEATURES = 200000\n",
        "vectorizer = TextVectorization(max_tokens=MAX_FEATURES,\n",
        "                               output_sequence_length=1800,\n",
        "                               output_mode='int')"
      ]
    },
    {
      "cell_type": "code",
      "execution_count": 35,
      "metadata": {},
      "outputs": [],
      "source": [
        "train_data = pd.read_csv(\"train.csv\")\n",
        "x = train_data[\"comment_text\"]"
      ]
    },
    {
      "cell_type": "code",
      "execution_count": 36,
      "metadata": {},
      "outputs": [
        {
          "name": "stderr",
          "output_type": "stream",
          "text": [
            "2023-08-30 20:56:28.922274: W tensorflow/tsl/framework/cpu_allocator_impl.cc:83] Allocation of 253720368 exceeds 10% of free system memory.\n"
          ]
        }
      ],
      "source": [
        "vectorizer.adapt(x.values)\n",
        "vectorized_text = vectorizer(x.values)"
      ]
    },
    {
      "cell_type": "code",
      "execution_count": 37,
      "metadata": {
        "id": "y78sgx5zcat3"
      },
      "outputs": [],
      "source": [
        "model1 = tf.keras.models.load_model('LSTM-Model')"
      ]
    },
    {
      "cell_type": "code",
      "execution_count": 38,
      "metadata": {
        "id": "dIGipq48cvFX"
      },
      "outputs": [],
      "source": [
        "input_text = vectorizer(\"Fuck your nigger ass\")"
      ]
    },
    {
      "cell_type": "code",
      "execution_count": 39,
      "metadata": {
        "colab": {
          "background_save": true,
          "base_uri": "https://localhost:8080/"
        },
        "id": "OoWqTluNdjp8",
        "outputId": "502d4a7b-785e-4f46-dc74-076d809f4803"
      },
      "outputs": [
        {
          "name": "stdout",
          "output_type": "stream",
          "text": [
            "1/1 [==============================] - 3s 3s/step\n"
          ]
        }
      ],
      "source": [
        "res = model1.predict(np.expand_dims(input_text,0))"
      ]
    },
    {
      "cell_type": "code",
      "execution_count": 40,
      "metadata": {
        "id": "jHw44JqTe6Nj"
      },
      "outputs": [],
      "source": [
        "output = (res>0.5).astype(int)"
      ]
    },
    {
      "cell_type": "code",
      "execution_count": 41,
      "metadata": {
        "colab": {
          "base_uri": "https://localhost:8080/"
        },
        "id": "Pjqu7Beee_Fw",
        "outputId": "d343f13b-ff95-4fee-d05a-671e3c634573"
      },
      "outputs": [
        {
          "data": {
            "text/plain": [
              "(6,)"
            ]
          },
          "execution_count": 41,
          "metadata": {},
          "output_type": "execute_result"
        }
      ],
      "source": [
        "col = train_data.columns[2:]\n",
        "col = col.to_numpy()\n",
        "col.shape"
      ]
    },
    {
      "cell_type": "code",
      "execution_count": 42,
      "metadata": {
        "colab": {
          "base_uri": "https://localhost:8080/"
        },
        "id": "nJGEhF5GiZYE",
        "outputId": "bb0f2151-bf8e-4f91-abe2-4f626e6c4559"
      },
      "outputs": [
        {
          "name": "stdout",
          "output_type": "stream",
          "text": [
            "Not Toxic\n"
          ]
        },
        {
          "ename": "",
          "evalue": "",
          "output_type": "error",
          "traceback": [
            "\u001b[1;31mThe Kernel crashed while executing code in the the current cell or a previous cell. Please review the code in the cell(s) to identify a possible cause of the failure. Click <a href='https://aka.ms/vscodeJupyterKernelCrash'>here</a> for more info. View Jupyter <a href='command:jupyter.viewOutput'>log</a> for further details."
          ]
        }
      ],
      "source": [
        "count = 0\n",
        "for index,element in np.ndenumerate(output):\n",
        "  if(element==1):\n",
        "    count = count+1\n",
        "    _,k = index\n",
        "    print(col[k])\n",
        "if(count==0):\n",
        "  print(\"Not Toxic\")"
      ]
    },
    {
      "cell_type": "markdown",
      "metadata": {},
      "source": [
        "### BERT"
      ]
    },
    {
      "cell_type": "code",
      "execution_count": 1,
      "metadata": {},
      "outputs": [
        {
          "ename": "NameError",
          "evalue": "name 'pd' is not defined",
          "output_type": "error",
          "traceback": [
            "\u001b[0;31m---------------------------------------------------------------------------\u001b[0m",
            "\u001b[0;31mNameError\u001b[0m                                 Traceback (most recent call last)",
            "Cell \u001b[0;32mIn[1], line 1\u001b[0m\n\u001b[0;32m----> 1\u001b[0m data \u001b[39m=\u001b[39m pd\u001b[39m.\u001b[39mread_csv(\u001b[39m\"\u001b[39m\u001b[39mtrain.csv\u001b[39m\u001b[39m\"\u001b[39m)\n\u001b[1;32m      2\u001b[0m \u001b[39mprint\u001b[39m(data\u001b[39m.\u001b[39mhead())\n",
            "\u001b[0;31mNameError\u001b[0m: name 'pd' is not defined"
          ]
        }
      ],
      "source": [
        "data = pd.read_csv(\"train.csv\")\n",
        "print(data.head())"
      ]
    },
    {
      "cell_type": "code",
      "execution_count": null,
      "metadata": {},
      "outputs": [],
      "source": [
        "column_labels = data.columns.tolist()[2:]\n",
        "label_counts = data[column_labels].sum().sort_values()"
      ]
    },
    {
      "cell_type": "code",
      "execution_count": null,
      "metadata": {},
      "outputs": [],
      "source": [
        "train_toxic = data[data[column_labels].sum(axis=1) > 0]\n",
        "train_clean = data[data[column_labels].sum(axis=1) == 0]\n",
        "\n",
        "num_toxic = len(train_toxic)\n",
        "num_clean = len(train_clean)"
      ]
    },
    {
      "cell_type": "code",
      "execution_count": null,
      "metadata": {},
      "outputs": [],
      "source": [
        "train_clean_sampled = train_clean.sample(n=16225, random_state=42)\n",
        "dataframe = pd.concat([train_toxic, train_clean_sampled], axis=0)\n",
        "dataframe = dataframe.sample(frac=1, random_state=42)"
      ]
    },
    {
      "cell_type": "code",
      "execution_count": null,
      "metadata": {},
      "outputs": [],
      "source": [
        "train_texts, test_texts, train_labels, test_labels = train_test_split(\n",
        "\tdataframe['comment_text'], dataframe.iloc[:, 2:], test_size=0.25, random_state=42)"
      ]
    },
    {
      "cell_type": "code",
      "execution_count": null,
      "metadata": {},
      "outputs": [],
      "source": [
        "test_texts, val_texts, test_labels, val_labels = train_test_split(\n",
        "\ttest_texts, test_labels, test_size=0.5, random_state=42)"
      ]
    },
    {
      "cell_type": "code",
      "execution_count": null,
      "metadata": {},
      "outputs": [],
      "source": [
        "def tokenize_and_encode(tokenizer, comments, labels, max_length=128):\n",
        "\tinput_ids = []\n",
        "\tattention_masks = []\n",
        "\tfor comment in comments:\n",
        "\t\tencoded_dict = tokenizer.encode_plus(\n",
        "\t\t\tcomment,\n",
        "\t\t\tadd_special_tokens=False,\n",
        "\t\t\tmax_length=max_length,\n",
        "\t\t\tpad_to_max_length=True,\n",
        "\t\t\treturn_attention_mask=True,\n",
        "\t\t\treturn_tensors='pt'\n",
        "\t\t)\n",
        "\t\tinput_ids.append(encoded_dict['input_ids'])\n",
        "\t\tattention_masks.append(encoded_dict['attention_mask'])\n",
        "\n",
        "\tinput_ids = torch.cat(input_ids, dim=0)\n",
        "\tattention_masks = torch.cat(attention_masks, dim=0)\n",
        "\tlabels = torch.tensor(labels, dtype=torch.float32)\n",
        "\n",
        "\treturn input_ids, attention_masks, labels"
      ]
    },
    {
      "cell_type": "code",
      "execution_count": null,
      "metadata": {},
      "outputs": [],
      "source": [
        "tokenizer = BertTokenizer.from_pretrained('bert-base-uncased',do_lower_case=True)"
      ]
    },
    {
      "cell_type": "code",
      "execution_count": null,
      "metadata": {},
      "outputs": [],
      "source": [
        "model = BertForSequenceClassification.from_pretrained('bert-base-uncased',num_labels=6)"
      ]
    },
    {
      "cell_type": "code",
      "execution_count": null,
      "metadata": {},
      "outputs": [],
      "source": [
        "device = torch.device('cuda') if torch.cuda.is_available() else torch.device('cpu')\n",
        "model = model.to(device)"
      ]
    },
    {
      "cell_type": "code",
      "execution_count": null,
      "metadata": {},
      "outputs": [],
      "source": [
        "input_ids, attention_masks, labels = tokenize_and_encode(\n",
        "\ttokenizer,\n",
        "\ttrain_texts,\n",
        "\ttrain_labels.values\n",
        ")\n",
        "test_input_ids, test_attention_masks, test_labels = tokenize_and_encode(\n",
        "\ttokenizer,\n",
        "\ttest_texts,\n",
        "\ttest_labels.values\n",
        ")\n",
        "val_input_ids, val_attention_masks, val_labels = tokenize_and_encode(\n",
        "\ttokenizer,\n",
        "\tval_texts,\n",
        "\tval_labels.values\n",
        ")\n",
        "\n",
        "print('Training Comments :',train_texts.shape)\n",
        "print('Input Ids\t\t :',input_ids.shape)\n",
        "print('Attention Mask :',attention_masks.shape)\n",
        "print('Labels\t\t :',labels.shape)"
      ]
    },
    {
      "cell_type": "code",
      "execution_count": null,
      "metadata": {},
      "outputs": [],
      "source": [
        "batch_size = 16\n",
        "train_dataset = TensorDataset(input_ids, attention_masks, labels)\n",
        "train_loader = DataLoader(train_dataset, batch_size=batch_size, shuffle=True)\n",
        "\n",
        "test_dataset = TensorDataset(test_input_ids, test_attention_masks, test_labels)\n",
        "test_loader = DataLoader(test_dataset, batch_size=batch_size, shuffle=False)\n",
        "\n",
        "val_dataset = TensorDataset(val_input_ids, val_attention_masks, val_labels)\n",
        "val_loader = DataLoader(val_dataset, batch_size=batch_size, shuffle=False)"
      ]
    },
    {
      "cell_type": "code",
      "execution_count": null,
      "metadata": {},
      "outputs": [],
      "source": [
        "optimizer = AdamW(model.parameters(), lr=2e-5)"
      ]
    },
    {
      "cell_type": "code",
      "execution_count": null,
      "metadata": {},
      "outputs": [],
      "source": [
        "def train_model(model, train_loader, optimizer, device, num_epochs):\n",
        "\n",
        "\tloss_line = []\n",
        "\tval_loss_line = []\n",
        "\n",
        "\tfor epoch in range(num_epochs):\n",
        "\n",
        "\t\tmodel.train()\n",
        "\t\ttotal_loss = 0\n",
        "\n",
        "\t\tfor batch in train_loader:\n",
        "\t\t\tinput_ids, attention_mask, labels = [t.to(device) for t in batch]\n",
        "\n",
        "\t\t\toptimizer.zero_grad()\n",
        "\n",
        "\t\t\toutputs = model(\n",
        "\t\t\t\tinput_ids, attention_mask=attention_mask, labels=labels)\n",
        "\t\t\tloss = outputs.loss\n",
        "\t\t\ttotal_loss += loss.item()\n",
        "\n",
        "\t\t\tloss.backward()\n",
        "\t\t\toptimizer.step()\n",
        "\n",
        "\t\tmodel.eval() \n",
        "\n",
        "\t\tval_loss = 0\n",
        "\t\twith torch.no_grad():\n",
        "\t\t\tfor batch in val_loader:\n",
        "\t\t\t\tinput_ids, attention_mask, labels = [\n",
        "\t\t\t\t\tt.to(device) for t in batch]\n",
        "\n",
        "\t\t\t\toutputs = model(\n",
        "\t\t\t\t\tinput_ids, attention_mask=attention_mask, labels=labels)\n",
        "\t\t\t\tloss = outputs.loss\n",
        "\t\t\t\tval_loss += loss.item()\n",
        "\t\tprint(f'Epoch {epoch+1}, Training Loss: {total_loss/len(train_loader)},Validation loss:{val_loss/len(val_loader)}')\n",
        "\t\tloss_line += [total_loss/len(train_loader)]\n",
        "\t\tval_loss_line += [val_loss/len(val_loader)]\n",
        "\t\n",
        "\tplt.figure(figsize=(10, 6))\n",
        "\tplt.plot(loss_line, label='Loss')\n",
        "\tplt.plot(val_loss_line, label='Validation Loss')\n",
        "\tplt.title('Model Loss')\n",
        "\tplt.xlabel('Epoch')\n",
        "\tplt.ylabel('Loss')\n",
        "\tplt.legend()\n",
        "\tplt.grid(True)\n",
        "\tplt.show()\n",
        "\n",
        "train_model(model, train_loader, optimizer, device, num_epochs=10)"
      ]
    },
    {
      "cell_type": "code",
      "execution_count": null,
      "metadata": {},
      "outputs": [],
      "source": [
        "def evaluate_model(model, test_loader, device):\n",
        "\tmodel.eval()\n",
        "\n",
        "\ttrue_labels = []\n",
        "\tpredicted_probs = []\n",
        "\n",
        "\twith torch.no_grad():\n",
        "\t\tfor batch in test_loader:\n",
        "\t\t\tinput_ids, attention_mask, labels = [t.to(device) for t in batch]\n",
        "\n",
        "\t\t\toutputs = model(input_ids, attention_mask=attention_mask)\n",
        "\t\t\tpredicted_probs_batch = torch.sigmoid(outputs.logits)\n",
        "\t\t\tpredicted_probs.append(predicted_probs_batch.cpu().numpy())\n",
        "\n",
        "\t\t\ttrue_labels_batch = labels.cpu().numpy()\n",
        "\t\t\ttrue_labels.append(true_labels_batch)\n",
        "\n",
        "\ttrue_labels = np.concatenate(true_labels, axis=0)\n",
        "\tpredicted_probs = np.concatenate(predicted_probs, axis=0)\n",
        "\tpredicted_labels = (predicted_probs > 0.5).astype(int) \n",
        "\n",
        "\taccuracy = accuracy_score(true_labels, predicted_labels)\n",
        "\tprecision = precision_score(true_labels, predicted_labels, average='micro')\n",
        "\trecall = recall_score(true_labels, predicted_labels, average='micro')\n",
        "\n",
        "\tprint(f'Accuracy: {accuracy:.4f}')\n",
        "\tprint(f'Precision: {precision:.4f}')\n",
        "\tprint(f'Recall: {recall:.4f}')\n",
        "\n",
        "evaluate_model(model, test_loader, device)"
      ]
    },
    {
      "cell_type": "code",
      "execution_count": null,
      "metadata": {},
      "outputs": [],
      "source": [
        "output_dir = \"BERT-Model\"\n",
        "model.save_pretrained(output_dir)\n",
        "tokenizer.save_pretrained(output_dir)"
      ]
    },
    {
      "cell_type": "markdown",
      "metadata": {},
      "source": [
        "### Prediction using BERT"
      ]
    },
    {
      "cell_type": "code",
      "execution_count": null,
      "metadata": {},
      "outputs": [],
      "source": [
        "device = torch.device('cuda') if torch.cuda.is_available() else torch.device('cpu')\n",
        "model_name = \"BERT-Model\"\n",
        "Bert_Tokenizer = BertTokenizer.from_pretrained(model_name)\n",
        "Bert_Model = BertForSequenceClassification.from_pretrained(model_name).to(device)"
      ]
    },
    {
      "cell_type": "code",
      "execution_count": null,
      "metadata": {},
      "outputs": [],
      "source": [
        "def predict_user_input(input_text, model=Bert_Model, tokenizer=Bert_Tokenizer, device=device):\n",
        "\tuser_input = [input_text]\n",
        "\n",
        "\tuser_encodings = tokenizer(\n",
        "\t\tuser_input, truncation=True, padding=True, return_tensors=\"pt\")\n",
        "\n",
        "\tuser_dataset = TensorDataset(\n",
        "\t\tuser_encodings['input_ids'], user_encodings['attention_mask'])\n",
        "\n",
        "\tuser_loader = DataLoader(user_dataset, batch_size=1, shuffle=False)\n",
        "\n",
        "\tmodel.eval()\n",
        "\twith torch.no_grad():\n",
        "\t\tfor batch in user_loader:\n",
        "\t\t\tinput_ids, attention_mask = [t.to(device) for t in batch]\n",
        "\t\t\toutputs = model(input_ids, attention_mask=attention_mask)\n",
        "\t\t\tlogits = outputs.logits\n",
        "\t\t\tpredictions = torch.sigmoid(logits)\n",
        "\n",
        "\tpredicted_labels = (predictions.cpu().numpy() > 0.5).astype(int)\n",
        "\tlabels_list = ['toxic', 'severe_toxic', 'obscene',\n",
        "\t\t\t\t'threat', 'insult', 'identity_hate']\n",
        "\tresult = dict(zip(labels_list, predicted_labels[0]))\n",
        "\treturn result"
      ]
    },
    {
      "cell_type": "code",
      "execution_count": null,
      "metadata": {},
      "outputs": [],
      "source": [
        "predict_user_input(input_text=\"Your mother\")"
      ]
    }
  ],
  "metadata": {
    "accelerator": "GPU",
    "colab": {
      "provenance": []
    },
    "kernelspec": {
      "display_name": "Python 3",
      "name": "python3"
    },
    "language_info": {
      "codemirror_mode": {
        "name": "ipython",
        "version": 3
      },
      "file_extension": ".py",
      "mimetype": "text/x-python",
      "name": "python",
      "nbconvert_exporter": "python",
      "pygments_lexer": "ipython3",
      "version": "3.9.17"
    }
  },
  "nbformat": 4,
  "nbformat_minor": 0
}
